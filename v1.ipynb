{
 "cells": [
  {
   "cell_type": "code",
   "execution_count": 1,
   "metadata": {},
   "outputs": [],
   "source": [
    "import pandas as pd\n",
    "import pendulum"
   ]
  },
  {
   "attachments": {},
   "cell_type": "markdown",
   "metadata": {},
   "source": [
    "读数据"
   ]
  },
  {
   "cell_type": "code",
   "execution_count": 2,
   "metadata": {},
   "outputs": [],
   "source": [
    "df = pd.read_csv('data/20230222BTC_USD_1h.csv', names=['timestamp', 'open', 'high', 'low', 'close', 'volume'])"
   ]
  },
  {
   "attachments": {},
   "cell_type": "markdown",
   "metadata": {},
   "source": [
    "计算缺失的序列量"
   ]
  },
  {
   "cell_type": "code",
   "execution_count": 3,
   "metadata": {},
   "outputs": [],
   "source": [
    "# UNIX Timestamp 的具体间隔\n",
    "second = 60 * 1000\n",
    "hour = second * 60"
   ]
  },
  {
   "cell_type": "code",
   "execution_count": 4,
   "metadata": {},
   "outputs": [],
   "source": [
    "# 计算缺失的时间并存到miss变量中\n",
    "t = df['timestamp'][0]\n",
    "miss = []\n",
    "for i in df['timestamp']:\n",
    "    while i != t:\n",
    "        miss.append(t)\n",
    "        t += hour\n",
    "    t += hour"
   ]
  },
  {
   "cell_type": "code",
   "execution_count": 5,
   "metadata": {},
   "outputs": [
    {
     "data": {
      "text/plain": [
       "0"
      ]
     },
     "execution_count": 5,
     "metadata": {},
     "output_type": "execute_result"
    }
   ],
   "source": [
    "len(miss)"
   ]
  },
  {
   "cell_type": "code",
   "execution_count": 6,
   "metadata": {},
   "outputs": [
    {
     "data": {
      "text/plain": [
       "0.0"
      ]
     },
     "execution_count": 6,
     "metadata": {},
     "output_type": "execute_result"
    }
   ],
   "source": [
    "# 缺失百分比\n",
    "len(miss) / (len(df) + len(miss)) * 100"
   ]
  },
  {
   "cell_type": "code",
   "execution_count": 7,
   "metadata": {},
   "outputs": [],
   "source": [
    "# 打印出缺失的时间段\n",
    "for i, m in enumerate(miss):\n",
    "    # print(m)\n",
    "    if i == 0:\n",
    "        print(f'start: {pendulum.from_timestamp(miss[i]/1000).to_datetime_string()}')\n",
    "    elif i == len(miss) - 1:\n",
    "        print(f'end: {pendulum.from_timestamp(miss[i]/1000).to_datetime_string()}')\n",
    "    elif miss[i-1] == m - 60 * 1000 and miss[i+1] != m + 60 * 1000:\n",
    "        print(f'end: {pendulum.from_timestamp(miss[i]/1000).to_datetime_string()}')\n",
    "    elif miss[i-1] != m - 60 * 1000 and miss[i+1] == m + 60 * 1000:\n",
    "        print(f'start: {pendulum.from_timestamp(miss[i]/1000).to_datetime_string()}')"
   ]
  },
  {
   "cell_type": "code",
   "execution_count": 8,
   "metadata": {},
   "outputs": [],
   "source": [
    "# 添加自然时间增加辨识度\n",
    "df['datetime'] = pd.to_datetime(df['timestamp'], unit='ms')\n",
    "# 添加当前行与上行的收盘价的变化\n",
    "df['pct_change'] = df['close'].pct_change()\n",
    "# 做一个偏移作为预测标签\n",
    "df['label'] = df['pct_change'].shift(-1)\n",
    "# 删除第一行和最后一行\n",
    "df = df.iloc[1:-1]"
   ]
  },
  {
   "cell_type": "code",
   "execution_count": 9,
   "metadata": {},
   "outputs": [
    {
     "data": {
      "text/html": [
       "<div>\n",
       "<style scoped>\n",
       "    .dataframe tbody tr th:only-of-type {\n",
       "        vertical-align: middle;\n",
       "    }\n",
       "\n",
       "    .dataframe tbody tr th {\n",
       "        vertical-align: top;\n",
       "    }\n",
       "\n",
       "    .dataframe thead th {\n",
       "        text-align: right;\n",
       "    }\n",
       "</style>\n",
       "<table border=\"1\" class=\"dataframe\">\n",
       "  <thead>\n",
       "    <tr style=\"text-align: right;\">\n",
       "      <th></th>\n",
       "      <th>timestamp</th>\n",
       "      <th>open</th>\n",
       "      <th>high</th>\n",
       "      <th>low</th>\n",
       "      <th>close</th>\n",
       "      <th>volume</th>\n",
       "      <th>datetime</th>\n",
       "      <th>pct_change</th>\n",
       "      <th>label</th>\n",
       "    </tr>\n",
       "  </thead>\n",
       "  <tbody>\n",
       "    <tr>\n",
       "      <th>1</th>\n",
       "      <td>1507798800000</td>\n",
       "      <td>5070.9780</td>\n",
       "      <td>5070.9780</td>\n",
       "      <td>5070.9780</td>\n",
       "      <td>5070.978000</td>\n",
       "      <td>0.000000</td>\n",
       "      <td>2017-10-12 09:00:00</td>\n",
       "      <td>0.000000</td>\n",
       "      <td>0.020801</td>\n",
       "    </tr>\n",
       "    <tr>\n",
       "      <th>2</th>\n",
       "      <td>1507802400000</td>\n",
       "      <td>5130.1205</td>\n",
       "      <td>5179.7700</td>\n",
       "      <td>5130.1205</td>\n",
       "      <td>5176.460203</td>\n",
       "      <td>0.013104</td>\n",
       "      <td>2017-10-12 10:00:00</td>\n",
       "      <td>0.020801</td>\n",
       "      <td>0.006752</td>\n",
       "    </tr>\n",
       "    <tr>\n",
       "      <th>3</th>\n",
       "      <td>1507806000000</td>\n",
       "      <td>5184.8952</td>\n",
       "      <td>5211.4120</td>\n",
       "      <td>5184.8952</td>\n",
       "      <td>5211.412000</td>\n",
       "      <td>0.008600</td>\n",
       "      <td>2017-10-12 11:00:00</td>\n",
       "      <td>0.006752</td>\n",
       "      <td>-0.008766</td>\n",
       "    </tr>\n",
       "    <tr>\n",
       "      <th>4</th>\n",
       "      <td>1507809600000</td>\n",
       "      <td>5165.7265</td>\n",
       "      <td>5165.7265</td>\n",
       "      <td>5165.7265</td>\n",
       "      <td>5165.726500</td>\n",
       "      <td>0.002200</td>\n",
       "      <td>2017-10-12 12:00:00</td>\n",
       "      <td>-0.008766</td>\n",
       "      <td>0.001236</td>\n",
       "    </tr>\n",
       "    <tr>\n",
       "      <th>5</th>\n",
       "      <td>1507813200000</td>\n",
       "      <td>5184.1490</td>\n",
       "      <td>5184.1490</td>\n",
       "      <td>5172.1095</td>\n",
       "      <td>5172.109500</td>\n",
       "      <td>0.202000</td>\n",
       "      <td>2017-10-12 13:00:00</td>\n",
       "      <td>0.001236</td>\n",
       "      <td>0.000000</td>\n",
       "    </tr>\n",
       "    <tr>\n",
       "      <th>...</th>\n",
       "      <td>...</td>\n",
       "      <td>...</td>\n",
       "      <td>...</td>\n",
       "      <td>...</td>\n",
       "      <td>...</td>\n",
       "      <td>...</td>\n",
       "      <td>...</td>\n",
       "      <td>...</td>\n",
       "      <td>...</td>\n",
       "    </tr>\n",
       "    <tr>\n",
       "      <th>47008</th>\n",
       "      <td>1677024000000</td>\n",
       "      <td>24446.9000</td>\n",
       "      <td>24469.2000</td>\n",
       "      <td>24268.1000</td>\n",
       "      <td>24417.000000</td>\n",
       "      <td>225.529214</td>\n",
       "      <td>2023-02-22 00:00:00</td>\n",
       "      <td>-0.001227</td>\n",
       "      <td>-0.009751</td>\n",
       "    </tr>\n",
       "    <tr>\n",
       "      <th>47009</th>\n",
       "      <td>1677027600000</td>\n",
       "      <td>24412.5000</td>\n",
       "      <td>24433.0000</td>\n",
       "      <td>24119.0000</td>\n",
       "      <td>24178.900000</td>\n",
       "      <td>320.640267</td>\n",
       "      <td>2023-02-22 01:00:00</td>\n",
       "      <td>-0.009751</td>\n",
       "      <td>-0.000219</td>\n",
       "    </tr>\n",
       "    <tr>\n",
       "      <th>47010</th>\n",
       "      <td>1677031200000</td>\n",
       "      <td>24178.9000</td>\n",
       "      <td>24189.7000</td>\n",
       "      <td>23869.3000</td>\n",
       "      <td>24173.600000</td>\n",
       "      <td>579.412920</td>\n",
       "      <td>2023-02-22 02:00:00</td>\n",
       "      <td>-0.000219</td>\n",
       "      <td>0.001088</td>\n",
       "    </tr>\n",
       "    <tr>\n",
       "      <th>47011</th>\n",
       "      <td>1677034800000</td>\n",
       "      <td>24173.7000</td>\n",
       "      <td>24262.9000</td>\n",
       "      <td>24127.4000</td>\n",
       "      <td>24199.900000</td>\n",
       "      <td>244.406198</td>\n",
       "      <td>2023-02-22 03:00:00</td>\n",
       "      <td>0.001088</td>\n",
       "      <td>-0.001810</td>\n",
       "    </tr>\n",
       "    <tr>\n",
       "      <th>47012</th>\n",
       "      <td>1677038400000</td>\n",
       "      <td>24200.0000</td>\n",
       "      <td>24218.1000</td>\n",
       "      <td>24030.1000</td>\n",
       "      <td>24156.100000</td>\n",
       "      <td>248.166816</td>\n",
       "      <td>2023-02-22 04:00:00</td>\n",
       "      <td>-0.001810</td>\n",
       "      <td>-0.000633</td>\n",
       "    </tr>\n",
       "  </tbody>\n",
       "</table>\n",
       "<p>47012 rows × 9 columns</p>\n",
       "</div>"
      ],
      "text/plain": [
       "           timestamp        open        high         low         close  \\\n",
       "1      1507798800000   5070.9780   5070.9780   5070.9780   5070.978000   \n",
       "2      1507802400000   5130.1205   5179.7700   5130.1205   5176.460203   \n",
       "3      1507806000000   5184.8952   5211.4120   5184.8952   5211.412000   \n",
       "4      1507809600000   5165.7265   5165.7265   5165.7265   5165.726500   \n",
       "5      1507813200000   5184.1490   5184.1490   5172.1095   5172.109500   \n",
       "...              ...         ...         ...         ...           ...   \n",
       "47008  1677024000000  24446.9000  24469.2000  24268.1000  24417.000000   \n",
       "47009  1677027600000  24412.5000  24433.0000  24119.0000  24178.900000   \n",
       "47010  1677031200000  24178.9000  24189.7000  23869.3000  24173.600000   \n",
       "47011  1677034800000  24173.7000  24262.9000  24127.4000  24199.900000   \n",
       "47012  1677038400000  24200.0000  24218.1000  24030.1000  24156.100000   \n",
       "\n",
       "           volume            datetime  pct_change     label  \n",
       "1        0.000000 2017-10-12 09:00:00    0.000000  0.020801  \n",
       "2        0.013104 2017-10-12 10:00:00    0.020801  0.006752  \n",
       "3        0.008600 2017-10-12 11:00:00    0.006752 -0.008766  \n",
       "4        0.002200 2017-10-12 12:00:00   -0.008766  0.001236  \n",
       "5        0.202000 2017-10-12 13:00:00    0.001236  0.000000  \n",
       "...           ...                 ...         ...       ...  \n",
       "47008  225.529214 2023-02-22 00:00:00   -0.001227 -0.009751  \n",
       "47009  320.640267 2023-02-22 01:00:00   -0.009751 -0.000219  \n",
       "47010  579.412920 2023-02-22 02:00:00   -0.000219  0.001088  \n",
       "47011  244.406198 2023-02-22 03:00:00    0.001088 -0.001810  \n",
       "47012  248.166816 2023-02-22 04:00:00   -0.001810 -0.000633  \n",
       "\n",
       "[47012 rows x 9 columns]"
      ]
     },
     "execution_count": 9,
     "metadata": {},
     "output_type": "execute_result"
    }
   ],
   "source": [
    "df"
   ]
  },
  {
   "cell_type": "code",
   "execution_count": 10,
   "metadata": {},
   "outputs": [
    {
     "data": {
      "text/html": [
       "<div>\n",
       "<style scoped>\n",
       "    .dataframe tbody tr th:only-of-type {\n",
       "        vertical-align: middle;\n",
       "    }\n",
       "\n",
       "    .dataframe tbody tr th {\n",
       "        vertical-align: top;\n",
       "    }\n",
       "\n",
       "    .dataframe thead th {\n",
       "        text-align: right;\n",
       "    }\n",
       "</style>\n",
       "<table border=\"1\" class=\"dataframe\">\n",
       "  <thead>\n",
       "    <tr style=\"text-align: right;\">\n",
       "      <th></th>\n",
       "      <th>timestamp</th>\n",
       "      <th>open</th>\n",
       "      <th>high</th>\n",
       "      <th>low</th>\n",
       "      <th>close</th>\n",
       "      <th>volume</th>\n",
       "      <th>datetime</th>\n",
       "      <th>pct_change</th>\n",
       "      <th>label</th>\n",
       "    </tr>\n",
       "  </thead>\n",
       "  <tbody>\n",
       "    <tr>\n",
       "      <th>1</th>\n",
       "      <td>1507798800000</td>\n",
       "      <td>5070.9780</td>\n",
       "      <td>5070.9780</td>\n",
       "      <td>5070.9780</td>\n",
       "      <td>5070.9780</td>\n",
       "      <td>0.000000</td>\n",
       "      <td>2017-10-12 09:00:00</td>\n",
       "      <td>0.0</td>\n",
       "      <td>0.020801</td>\n",
       "    </tr>\n",
       "    <tr>\n",
       "      <th>6</th>\n",
       "      <td>1507816800000</td>\n",
       "      <td>5172.1095</td>\n",
       "      <td>5172.1095</td>\n",
       "      <td>5172.1095</td>\n",
       "      <td>5172.1095</td>\n",
       "      <td>0.000000</td>\n",
       "      <td>2017-10-12 14:00:00</td>\n",
       "      <td>0.0</td>\n",
       "      <td>0.024413</td>\n",
       "    </tr>\n",
       "    <tr>\n",
       "      <th>14</th>\n",
       "      <td>1507845600000</td>\n",
       "      <td>5305.2945</td>\n",
       "      <td>5305.2945</td>\n",
       "      <td>5305.2945</td>\n",
       "      <td>5305.2945</td>\n",
       "      <td>0.000000</td>\n",
       "      <td>2017-10-12 22:00:00</td>\n",
       "      <td>0.0</td>\n",
       "      <td>0.005304</td>\n",
       "    </tr>\n",
       "    <tr>\n",
       "      <th>59</th>\n",
       "      <td>1508007600000</td>\n",
       "      <td>5708.3855</td>\n",
       "      <td>5708.3855</td>\n",
       "      <td>5708.3855</td>\n",
       "      <td>5708.3855</td>\n",
       "      <td>0.000000</td>\n",
       "      <td>2017-10-14 19:00:00</td>\n",
       "      <td>0.0</td>\n",
       "      <td>-0.001996</td>\n",
       "    </tr>\n",
       "    <tr>\n",
       "      <th>61</th>\n",
       "      <td>1508014800000</td>\n",
       "      <td>5696.9904</td>\n",
       "      <td>5696.9904</td>\n",
       "      <td>5696.9904</td>\n",
       "      <td>5696.9904</td>\n",
       "      <td>0.000000</td>\n",
       "      <td>2017-10-14 21:00:00</td>\n",
       "      <td>0.0</td>\n",
       "      <td>0.000000</td>\n",
       "    </tr>\n",
       "    <tr>\n",
       "      <th>...</th>\n",
       "      <td>...</td>\n",
       "      <td>...</td>\n",
       "      <td>...</td>\n",
       "      <td>...</td>\n",
       "      <td>...</td>\n",
       "      <td>...</td>\n",
       "      <td>...</td>\n",
       "      <td>...</td>\n",
       "      <td>...</td>\n",
       "    </tr>\n",
       "    <tr>\n",
       "      <th>21854</th>\n",
       "      <td>1586469600000</td>\n",
       "      <td>7310.0000</td>\n",
       "      <td>7312.6300</td>\n",
       "      <td>7286.8100</td>\n",
       "      <td>7310.0000</td>\n",
       "      <td>18.733048</td>\n",
       "      <td>2020-04-09 22:00:00</td>\n",
       "      <td>0.0</td>\n",
       "      <td>-0.003127</td>\n",
       "    </tr>\n",
       "    <tr>\n",
       "      <th>23183</th>\n",
       "      <td>1591254000000</td>\n",
       "      <td>9645.6200</td>\n",
       "      <td>9666.7500</td>\n",
       "      <td>9643.3300</td>\n",
       "      <td>9646.7200</td>\n",
       "      <td>19.612242</td>\n",
       "      <td>2020-06-04 07:00:00</td>\n",
       "      <td>0.0</td>\n",
       "      <td>-0.000572</td>\n",
       "    </tr>\n",
       "    <tr>\n",
       "      <th>44109</th>\n",
       "      <td>1666587600000</td>\n",
       "      <td>19335.6000</td>\n",
       "      <td>19354.8000</td>\n",
       "      <td>19294.3000</td>\n",
       "      <td>19336.8000</td>\n",
       "      <td>558.116052</td>\n",
       "      <td>2022-10-24 05:00:00</td>\n",
       "      <td>0.0</td>\n",
       "      <td>-0.002255</td>\n",
       "    </tr>\n",
       "    <tr>\n",
       "      <th>44324</th>\n",
       "      <td>1667361600000</td>\n",
       "      <td>20520.6000</td>\n",
       "      <td>20555.2000</td>\n",
       "      <td>20508.4000</td>\n",
       "      <td>20520.0000</td>\n",
       "      <td>375.852456</td>\n",
       "      <td>2022-11-02 04:00:00</td>\n",
       "      <td>0.0</td>\n",
       "      <td>-0.001574</td>\n",
       "    </tr>\n",
       "    <tr>\n",
       "      <th>45780</th>\n",
       "      <td>1672603200000</td>\n",
       "      <td>16604.0000</td>\n",
       "      <td>16627.8000</td>\n",
       "      <td>16600.8000</td>\n",
       "      <td>16604.0000</td>\n",
       "      <td>180.671799</td>\n",
       "      <td>2023-01-01 20:00:00</td>\n",
       "      <td>0.0</td>\n",
       "      <td>0.000163</td>\n",
       "    </tr>\n",
       "  </tbody>\n",
       "</table>\n",
       "<p>172 rows × 9 columns</p>\n",
       "</div>"
      ],
      "text/plain": [
       "           timestamp        open        high         low       close  \\\n",
       "1      1507798800000   5070.9780   5070.9780   5070.9780   5070.9780   \n",
       "6      1507816800000   5172.1095   5172.1095   5172.1095   5172.1095   \n",
       "14     1507845600000   5305.2945   5305.2945   5305.2945   5305.2945   \n",
       "59     1508007600000   5708.3855   5708.3855   5708.3855   5708.3855   \n",
       "61     1508014800000   5696.9904   5696.9904   5696.9904   5696.9904   \n",
       "...              ...         ...         ...         ...         ...   \n",
       "21854  1586469600000   7310.0000   7312.6300   7286.8100   7310.0000   \n",
       "23183  1591254000000   9645.6200   9666.7500   9643.3300   9646.7200   \n",
       "44109  1666587600000  19335.6000  19354.8000  19294.3000  19336.8000   \n",
       "44324  1667361600000  20520.6000  20555.2000  20508.4000  20520.0000   \n",
       "45780  1672603200000  16604.0000  16627.8000  16600.8000  16604.0000   \n",
       "\n",
       "           volume            datetime  pct_change     label  \n",
       "1        0.000000 2017-10-12 09:00:00         0.0  0.020801  \n",
       "6        0.000000 2017-10-12 14:00:00         0.0  0.024413  \n",
       "14       0.000000 2017-10-12 22:00:00         0.0  0.005304  \n",
       "59       0.000000 2017-10-14 19:00:00         0.0 -0.001996  \n",
       "61       0.000000 2017-10-14 21:00:00         0.0  0.000000  \n",
       "...           ...                 ...         ...       ...  \n",
       "21854   18.733048 2020-04-09 22:00:00         0.0 -0.003127  \n",
       "23183   19.612242 2020-06-04 07:00:00         0.0 -0.000572  \n",
       "44109  558.116052 2022-10-24 05:00:00         0.0 -0.002255  \n",
       "44324  375.852456 2022-11-02 04:00:00         0.0 -0.001574  \n",
       "45780  180.671799 2023-01-01 20:00:00         0.0  0.000163  \n",
       "\n",
       "[172 rows x 9 columns]"
      ]
     },
     "execution_count": 10,
     "metadata": {},
     "output_type": "execute_result"
    }
   ],
   "source": [
    "# 查看1小时都没啥变动的值\n",
    "df[df['pct_change']==0]"
   ]
  },
  {
   "attachments": {},
   "cell_type": "markdown",
   "metadata": {},
   "source": [
    "收益分布"
   ]
  },
  {
   "cell_type": "code",
   "execution_count": 11,
   "metadata": {},
   "outputs": [
    {
     "data": {
      "text/plain": [
       "<AxesSubplot: ylabel='Frequency'>"
      ]
     },
     "execution_count": 11,
     "metadata": {},
     "output_type": "execute_result"
    },
    {
     "data": {
      "image/png": "[encoded data removed]",
      "text/plain": [
       "<Figure size 1600x400 with 1 Axes>"
      ]
     },
     "metadata": {},
     "output_type": "display_data"
    }
   ],
   "source": [
    "# 收益呈现标准差分布\n",
    "df['pct_change'].plot.hist(figsize=(16, 4), bins=100)"
   ]
  },
  {
   "cell_type": "code",
   "execution_count": 12,
   "metadata": {},
   "outputs": [
    {
     "data": {
      "text/plain": [
       "50.68067727388752"
      ]
     },
     "execution_count": 12,
     "metadata": {},
     "output_type": "execute_result"
    }
   ],
   "source": [
    "len(df.loc[df['pct_change'] > 0]) / len(df) * 100"
   ]
  },
  {
   "cell_type": "code",
   "execution_count": 13,
   "metadata": {},
   "outputs": [
    {
     "data": {
      "text/plain": [
       "0.36586403471454093"
      ]
     },
     "execution_count": 13,
     "metadata": {},
     "output_type": "execute_result"
    }
   ],
   "source": [
    "len(df.loc[df['pct_change'] == 0]) / len(df) * 100"
   ]
  },
  {
   "cell_type": "code",
   "execution_count": 14,
   "metadata": {},
   "outputs": [
    {
     "data": {
      "text/plain": [
       "48.95345869139794"
      ]
     },
     "execution_count": 14,
     "metadata": {},
     "output_type": "execute_result"
    }
   ],
   "source": [
    "len(df.loc[df['pct_change'] < 0]) / len(df) * 100"
   ]
  },
  {
   "attachments": {},
   "cell_type": "markdown",
   "metadata": {},
   "source": [
    "删除不需要的列"
   ]
  },
  {
   "cell_type": "code",
   "execution_count": 15,
   "metadata": {},
   "outputs": [],
   "source": [
    "df.drop(columns=['timestamp', 'datetime', 'pct_change'], inplace=True)"
   ]
  },
  {
   "attachments": {},
   "cell_type": "markdown",
   "metadata": {},
   "source": [
    "分割训练数据和测试数据"
   ]
  },
  {
   "cell_type": "code",
   "execution_count": 16,
   "metadata": {},
   "outputs": [],
   "source": [
    "# 定义训练数据占比\n",
    "ratio_training_data = 0.9\n",
    "# 切割训练数据\n",
    "l = int(len(df) * ratio_training_data)\n",
    "training_data = df.head(l)\n",
    "test_data = df.tail(len(df) - l)"
   ]
  },
  {
   "cell_type": "code",
   "execution_count": 17,
   "metadata": {},
   "outputs": [
    {
     "data": {
      "text/plain": [
       "4702"
      ]
     },
     "execution_count": 17,
     "metadata": {},
     "output_type": "execute_result"
    }
   ],
   "source": [
    "len(test_data)"
   ]
  },
  {
   "cell_type": "code",
   "execution_count": 18,
   "metadata": {},
   "outputs": [],
   "source": [
    "training_data.to_csv('data/out_training_data.csv')\n",
    "test_data.to_csv('data/out_test_data.csv')"
   ]
  }
 ],
 "metadata": {
  "kernelspec": {
   "display_name": "dl",
   "language": "python",
   "name": "python3"
  },
  "language_info": {
   "codemirror_mode": {
    "name": "ipython",
    "version": 3
   },
   "file_extension": ".py",
   "mimetype": "text/x-python",
   "name": "python",
   "nbconvert_exporter": "python",
   "pygments_lexer": "ipython3",
   "version": "3.10.9"
  },
  "orig_nbformat": 4,
  "vscode": {
   "interpreter": {
    "hash": "3712396588e2ebd809439df4a449bfc974081027df7accf4c030d44c834bbac4"
   }
  }
 },
 "nbformat": 4,
 "nbformat_minor": 2
}
