{
 "cells": [
  {
   "cell_type": "code",
   "execution_count": 1,
   "metadata": {},
   "outputs": [],
   "source": [
    "import pandas as pd\n",
    "import pendulum"
   ]
  },
  {
   "cell_type": "code",
   "execution_count": 2,
   "metadata": {},
   "outputs": [],
   "source": [
    "df = pd.read_csv('data/binance-1m-btcusdt-20221223.csv', names=['timestamp', 'open', 'high', 'low', 'close', 'volume'])"
   ]
  },
  {
   "cell_type": "code",
   "execution_count": 3,
   "metadata": {},
   "outputs": [
    {
     "data": {
      "text/html": [
       "<div>\n",
       "<style scoped>\n",
       "    .dataframe tbody tr th:only-of-type {\n",
       "        vertical-align: middle;\n",
       "    }\n",
       "\n",
       "    .dataframe tbody tr th {\n",
       "        vertical-align: top;\n",
       "    }\n",
       "\n",
       "    .dataframe thead th {\n",
       "        text-align: right;\n",
       "    }\n",
       "</style>\n",
       "<table border=\"1\" class=\"dataframe\">\n",
       "  <thead>\n",
       "    <tr style=\"text-align: right;\">\n",
       "      <th></th>\n",
       "      <th>timestamp</th>\n",
       "      <th>open</th>\n",
       "      <th>high</th>\n",
       "      <th>low</th>\n",
       "      <th>close</th>\n",
       "      <th>volume</th>\n",
       "    </tr>\n",
       "  </thead>\n",
       "  <tbody>\n",
       "    <tr>\n",
       "      <th>0</th>\n",
       "      <td>1502942400000</td>\n",
       "      <td>4261.48</td>\n",
       "      <td>4261.48</td>\n",
       "      <td>4261.48</td>\n",
       "      <td>4261.48</td>\n",
       "      <td>1.775183</td>\n",
       "    </tr>\n",
       "    <tr>\n",
       "      <th>1</th>\n",
       "      <td>1502942460000</td>\n",
       "      <td>4261.48</td>\n",
       "      <td>4261.48</td>\n",
       "      <td>4261.48</td>\n",
       "      <td>4261.48</td>\n",
       "      <td>0.000000</td>\n",
       "    </tr>\n",
       "    <tr>\n",
       "      <th>2</th>\n",
       "      <td>1502942520000</td>\n",
       "      <td>4280.56</td>\n",
       "      <td>4280.56</td>\n",
       "      <td>4280.56</td>\n",
       "      <td>4280.56</td>\n",
       "      <td>0.261074</td>\n",
       "    </tr>\n",
       "    <tr>\n",
       "      <th>3</th>\n",
       "      <td>1502942580000</td>\n",
       "      <td>4261.48</td>\n",
       "      <td>4261.48</td>\n",
       "      <td>4261.48</td>\n",
       "      <td>4261.48</td>\n",
       "      <td>0.012008</td>\n",
       "    </tr>\n",
       "    <tr>\n",
       "      <th>4</th>\n",
       "      <td>1502942640000</td>\n",
       "      <td>4261.48</td>\n",
       "      <td>4261.48</td>\n",
       "      <td>4261.48</td>\n",
       "      <td>4261.48</td>\n",
       "      <td>0.140796</td>\n",
       "    </tr>\n",
       "    <tr>\n",
       "      <th>...</th>\n",
       "      <td>...</td>\n",
       "      <td>...</td>\n",
       "      <td>...</td>\n",
       "      <td>...</td>\n",
       "      <td>...</td>\n",
       "      <td>...</td>\n",
       "    </tr>\n",
       "    <tr>\n",
       "      <th>2785250</th>\n",
       "      <td>1670570520000</td>\n",
       "      <td>17223.90</td>\n",
       "      <td>17224.86</td>\n",
       "      <td>17222.63</td>\n",
       "      <td>17223.17</td>\n",
       "      <td>47.350010</td>\n",
       "    </tr>\n",
       "    <tr>\n",
       "      <th>2785251</th>\n",
       "      <td>1670570580000</td>\n",
       "      <td>17223.74</td>\n",
       "      <td>17224.45</td>\n",
       "      <td>17221.15</td>\n",
       "      <td>17222.46</td>\n",
       "      <td>104.189840</td>\n",
       "    </tr>\n",
       "    <tr>\n",
       "      <th>2785252</th>\n",
       "      <td>1670570640000</td>\n",
       "      <td>17222.46</td>\n",
       "      <td>17224.45</td>\n",
       "      <td>17220.82</td>\n",
       "      <td>17221.32</td>\n",
       "      <td>86.865270</td>\n",
       "    </tr>\n",
       "    <tr>\n",
       "      <th>2785253</th>\n",
       "      <td>1670570700000</td>\n",
       "      <td>17221.32</td>\n",
       "      <td>17225.97</td>\n",
       "      <td>17218.84</td>\n",
       "      <td>17223.41</td>\n",
       "      <td>132.656500</td>\n",
       "    </tr>\n",
       "    <tr>\n",
       "      <th>2785254</th>\n",
       "      <td>1670570760000</td>\n",
       "      <td>17223.41</td>\n",
       "      <td>17225.79</td>\n",
       "      <td>17222.06</td>\n",
       "      <td>17225.49</td>\n",
       "      <td>48.894060</td>\n",
       "    </tr>\n",
       "  </tbody>\n",
       "</table>\n",
       "<p>2785255 rows × 6 columns</p>\n",
       "</div>"
      ],
      "text/plain": [
       "             timestamp      open      high       low     close      volume\n",
       "0        1502942400000   4261.48   4261.48   4261.48   4261.48    1.775183\n",
       "1        1502942460000   4261.48   4261.48   4261.48   4261.48    0.000000\n",
       "2        1502942520000   4280.56   4280.56   4280.56   4280.56    0.261074\n",
       "3        1502942580000   4261.48   4261.48   4261.48   4261.48    0.012008\n",
       "4        1502942640000   4261.48   4261.48   4261.48   4261.48    0.140796\n",
       "...                ...       ...       ...       ...       ...         ...\n",
       "2785250  1670570520000  17223.90  17224.86  17222.63  17223.17   47.350010\n",
       "2785251  1670570580000  17223.74  17224.45  17221.15  17222.46  104.189840\n",
       "2785252  1670570640000  17222.46  17224.45  17220.82  17221.32   86.865270\n",
       "2785253  1670570700000  17221.32  17225.97  17218.84  17223.41  132.656500\n",
       "2785254  1670570760000  17223.41  17225.79  17222.06  17225.49   48.894060\n",
       "\n",
       "[2785255 rows x 6 columns]"
      ]
     },
     "execution_count": 3,
     "metadata": {},
     "output_type": "execute_result"
    }
   ],
   "source": [
    "df"
   ]
  },
  {
   "cell_type": "code",
   "execution_count": 4,
   "metadata": {},
   "outputs": [],
   "source": [
    "t = 1502942400000\n",
    "miss = []\n",
    "for i in df['timestamp']:\n",
    "    while i != t:\n",
    "        miss.append(t)\n",
    "        t += 60 * 1000\n",
    "\n",
    "    t += 60 * 1000"
   ]
  },
  {
   "cell_type": "code",
   "execution_count": 5,
   "metadata": {},
   "outputs": [
    {
     "data": {
      "text/plain": [
       "8552"
      ]
     },
     "execution_count": 5,
     "metadata": {},
     "output_type": "execute_result"
    }
   ],
   "source": [
    "len(miss)"
   ]
  },
  {
   "cell_type": "code",
   "execution_count": 6,
   "metadata": {},
   "outputs": [
    {
     "data": {
      "text/plain": [
       "0.3061056114470327"
      ]
     },
     "execution_count": 6,
     "metadata": {},
     "output_type": "execute_result"
    }
   ],
   "source": [
    "len(miss) / (len(df) + len(miss)) * 100"
   ]
  },
  {
   "cell_type": "code",
   "execution_count": 7,
   "metadata": {},
   "outputs": [
    {
     "name": "stdout",
     "output_type": "stream",
     "text": [
      "start: 2017-09-06 16:01:00\n",
      "end: 2017-09-06 22:59:00\n",
      "start: 2017-12-04 06:01:00\n",
      "end: 2017-12-04 06:48:00\n",
      "start: 2017-12-18 10:01:00\n",
      "end: 2017-12-18 10:13:00\n",
      "start: 2017-12-18 12:30:00\n",
      "end: 2017-12-18 13:33:00\n",
      "start: 2018-01-04 03:01:00\n",
      "end: 2018-01-04 05:05:00\n",
      "start: 2018-02-08 00:29:00\n",
      "end: 2018-02-09 09:59:00\n",
      "start: 2018-02-10 06:00:00\n",
      "end: 2018-02-10 06:14:00\n",
      "start: 2018-02-11 04:01:00\n",
      "end: 2018-02-11 04:34:00\n",
      "start: 2018-06-26 02:00:00\n",
      "end: 2018-06-26 11:59:00\n",
      "start: 2018-06-27 13:00:00\n",
      "end: 2018-06-27 14:44:00\n",
      "start: 2018-07-04 00:23:00\n",
      "end: 2018-07-04 07:59:00\n",
      "start: 2018-10-19 06:00:00\n",
      "end: 2018-10-19 09:29:00\n",
      "start: 2018-11-14 02:00:00\n",
      "end: 2018-11-14 08:59:00\n",
      "start: 2019-03-12 02:00:00\n",
      "end: 2019-03-12 07:59:00\n",
      "start: 2019-05-15 03:00:00\n",
      "end: 2019-05-15 12:59:00\n",
      "start: 2019-06-07 21:14:00\n",
      "end: 2019-06-07 22:14:00\n",
      "start: 2019-08-15 02:00:00\n",
      "end: 2019-08-15 09:59:00\n",
      "start: 2019-11-13 02:00:00\n",
      "end: 2019-11-13 04:19:00\n",
      "start: 2019-11-13 05:30:00\n",
      "end: 2019-11-13 05:32:00\n",
      "start: 2019-11-25 02:00:00\n",
      "end: 2019-11-25 03:59:00\n",
      "start: 2020-02-09 02:00:00\n",
      "end: 2020-02-09 02:59:00\n",
      "start: 2020-02-19 11:36:00\n",
      "end: 2020-02-19 17:29:00\n",
      "start: 2020-03-04 09:22:00\n",
      "end: 2020-03-04 11:29:00\n",
      "start: 2020-04-25 02:00:00\n",
      "end: 2020-04-25 04:29:00\n",
      "start: 2020-06-28 02:00:00\n",
      "end: 2020-06-28 05:29:00\n",
      "start: 2020-11-30 06:00:00\n",
      "end: 2020-11-30 06:59:00\n",
      "start: 2020-12-21 13:48:00\n",
      "end: 2020-12-21 17:59:00\n",
      "start: 2020-12-25 02:00:00\n",
      "end: 2020-12-25 02:59:00\n",
      "start: 2021-02-11 03:41:00\n",
      "end: 2021-02-11 04:59:00\n",
      "start: 2021-03-06 02:00:00\n",
      "end: 2021-03-06 03:29:00\n",
      "start: 2021-04-20 02:00:00\n",
      "end: 2021-04-20 04:29:00\n",
      "start: 2021-04-25 04:01:00\n",
      "end: 2021-04-25 08:44:00\n",
      "start: 2021-08-13 02:00:00\n",
      "end: 2021-08-13 06:29:00\n",
      "start: 2021-09-29 07:00:00\n",
      "end: 2021-09-29 08:59:00\n"
     ]
    }
   ],
   "source": [
    "# 打印出缺失的时间段\n",
    "for i, m in enumerate(miss):\n",
    "    # print(m)\n",
    "    if i == 0:\n",
    "        print(f'start: {pendulum.from_timestamp(miss[i]/1000).to_datetime_string()}')\n",
    "    elif i == len(miss) - 1:\n",
    "        print(f'end: {pendulum.from_timestamp(miss[i]/1000).to_datetime_string()}')\n",
    "    elif miss[i-1] == m - 60 * 1000 and miss[i+1] != m + 60 * 1000:\n",
    "        print(f'end: {pendulum.from_timestamp(miss[i]/1000).to_datetime_string()}')\n",
    "    elif miss[i-1] != m - 60 * 1000 and miss[i+1] == m + 60 * 1000:\n",
    "        print(f'start: {pendulum.from_timestamp(miss[i]/1000).to_datetime_string()}')"
   ]
  },
  {
   "cell_type": "code",
   "execution_count": 8,
   "metadata": {},
   "outputs": [],
   "source": [
    "df['datetime'] = pd.to_datetime(df['timestamp'], unit='ms')"
   ]
  },
  {
   "cell_type": "code",
   "execution_count": 9,
   "metadata": {},
   "outputs": [],
   "source": [
    "df['pct_change'] = df['close'].pct_change()"
   ]
  },
  {
   "cell_type": "code",
   "execution_count": 10,
   "metadata": {},
   "outputs": [
    {
     "data": {
      "text/plain": [
       "<matplotlib.axes._subplots.AxesSubplot at 0x1949d05cca0>"
      ]
     },
     "execution_count": 10,
     "metadata": {},
     "output_type": "execute_result"
    },
    {
     "data": {
      "image/png": "[encoded data removed]",
      "text/plain": [
       "<Figure size 1600x900 with 1 Axes>"
      ]
     },
     "metadata": {},
     "output_type": "display_data"
    }
   ],
   "source": [
    "df['pct_change'].plot.hist(figsize=(16, 9), bins=50)"
   ]
  },
  {
   "cell_type": "code",
   "execution_count": 15,
   "metadata": {},
   "outputs": [],
   "source": [
    "df.loc[df['pct_change'] >= 0, 'label'] = 1"
   ]
  },
  {
   "cell_type": "code",
   "execution_count": 17,
   "metadata": {},
   "outputs": [],
   "source": [
    "df.loc[df['pct_change'] < 0, 'label'] = 0"
   ]
  },
  {
   "cell_type": "code",
   "execution_count": 23,
   "metadata": {},
   "outputs": [
    {
     "name": "stderr",
     "output_type": "stream",
     "text": [
      "C:\\Users\\Blueness\\AppData\\Local\\Temp\\ipykernel_10132\\229002672.py:1: SettingWithCopyWarning: \n",
      "A value is trying to be set on a copy of a slice from a DataFrame\n",
      "\n",
      "See the caveats in the documentation: https://pandas.pydata.org/pandas-docs/stable/user_guide/indexing.html#returning-a-view-versus-a-copy\n",
      "  df.loc[0]['label'] = 1\n"
     ]
    }
   ],
   "source": [
    "df.loc[0]['label'] = 1"
   ]
  },
  {
   "cell_type": "code",
   "execution_count": 26,
   "metadata": {},
   "outputs": [
    {
     "data": {
      "text/plain": [
       "48.87566847559739"
      ]
     },
     "execution_count": 26,
     "metadata": {},
     "output_type": "execute_result"
    }
   ],
   "source": [
    "len(df.loc[df['pct_change'] > 0]) / len(df) * 100"
   ]
  },
  {
   "cell_type": "code",
   "execution_count": 27,
   "metadata": {},
   "outputs": [
    {
     "data": {
      "text/plain": [
       "2.4406382898513783"
      ]
     },
     "execution_count": 27,
     "metadata": {},
     "output_type": "execute_result"
    }
   ],
   "source": [
    "len(df.loc[df['pct_change'] == 0]) / len(df) * 100"
   ]
  },
  {
   "cell_type": "code",
   "execution_count": 28,
   "metadata": {},
   "outputs": [
    {
     "data": {
      "text/plain": [
       "48.68365733119588"
      ]
     },
     "execution_count": 28,
     "metadata": {},
     "output_type": "execute_result"
    }
   ],
   "source": [
    "len(df.loc[df['pct_change'] < 0]) / len(df) * 100"
   ]
  },
  {
   "cell_type": "code",
   "execution_count": 37,
   "metadata": {},
   "outputs": [],
   "source": [
    "l = int(len(df) * 0.98)"
   ]
  },
  {
   "cell_type": "code",
   "execution_count": 38,
   "metadata": {},
   "outputs": [],
   "source": [
    "training_data = df.head(l)"
   ]
  },
  {
   "cell_type": "code",
   "execution_count": 40,
   "metadata": {},
   "outputs": [],
   "source": [
    "test_data = df.tail(len(df) - l)"
   ]
  },
  {
   "cell_type": "code",
   "execution_count": 41,
   "metadata": {},
   "outputs": [
    {
     "data": {
      "text/plain": [
       "55706"
      ]
     },
     "execution_count": 41,
     "metadata": {},
     "output_type": "execute_result"
    }
   ],
   "source": [
    "len(test_data)"
   ]
  },
  {
   "cell_type": "code",
   "execution_count": 42,
   "metadata": {},
   "outputs": [],
   "source": [
    "training_data.to_csv('out_training_data.csv')\n",
    "test_data.to_csv('out_test_data.csv')"
   ]
  },
  {
   "cell_type": "code",
   "execution_count": null,
   "metadata": {},
   "outputs": [],
   "source": []
  }
 ],
 "metadata": {
  "kernelspec": {
   "display_name": "d2l",
   "language": "python",
   "name": "python3"
  },
  "language_info": {
   "codemirror_mode": {
    "name": "ipython",
    "version": 3
   },
   "file_extension": ".py",
   "mimetype": "text/x-python",
   "name": "python",
   "nbconvert_exporter": "python",
   "pygments_lexer": "ipython3",
   "version": "3.9.15"
  },
  "orig_nbformat": 4,
  "vscode": {
   "interpreter": {
    "hash": "8bd58365125d1fb04f9da52a4f19f0e2a6de19e22e14f4703d248c3bab40a246"
   }
  }
 },
 "nbformat": 4,
 "nbformat_minor": 2
}
